{
 "cells": [
  {
   "cell_type": "code",
   "execution_count": null,
   "metadata": {},
   "outputs": [],
   "source": [
    "!mkdir models\n",
    "!mkdir plots\n",
    "%reload_ext autoreload\n",
    "%autoreload 2"
   ]
  },
  {
   "cell_type": "code",
   "execution_count": 2,
   "metadata": {},
   "outputs": [],
   "source": [
    "import torch\n",
    "import numpy as np\n",
    "import matplotlib.pyplot as plt\n",
    "\n",
    "from classifier import NappaSleepNet\n",
    "from utils.dataset_classes import NappaDataset\n",
    "from utils.dataset_preprocess import HybridScaler\n",
    "from utils.plots import plot_confusion_matrix, plot_time_series, box_plot\n",
    "\n",
    "from sklearn.metrics import accuracy_score, matthews_corrcoef, confusion_matrix"
   ]
  },
  {
   "cell_type": "code",
   "execution_count": 10,
   "metadata": {},
   "outputs": [],
   "source": [
    "device = torch.device('cpu')\n",
    "\n",
    "scaler = HybridScaler(method='global')\n",
    "\n",
    "mapping = {\n",
    "    'N3'  :0,\n",
    "    'N2'  :0,\n",
    "    'N1'  :1,\n",
    "    'REM' :1,\n",
    "    'Wake':2,        \n",
    "    }\n",
    "\n",
    "nappa_dataset = NappaDataset('nappa_dataset.pkl').labelsToNumeric(mapping).sortById()\n",
    "\n",
    "sleep_classes = ['N2/N3', 'N1/REM', 'Wake']\n",
    "\n",
    "NUM_FEATURES = nappa_dataset.features.shape[1]\n",
    "NUM_CLASSES = len(sleep_classes)\n",
    "\n",
    "model = NappaSleepNet(n_features=NUM_FEATURES, n_classes=NUM_CLASSES).to(device)"
   ]
  },
  {
   "cell_type": "code",
   "execution_count": 11,
   "metadata": {},
   "outputs": [],
   "source": [
    "def model_predict(model, features):\n",
    "    model.eval()\n",
    "    with torch.no_grad():\n",
    "        features = torch.tensor(features, dtype=torch.float).unsqueeze(0)\n",
    "\n",
    "        output = model(features, rec_lengths=[features.shape[1]]).reshape(-1, NUM_CLASSES)\n",
    "        predicted_probabilities = torch.softmax(output, dim=-1)\n",
    "        predicted_classes = torch.argmax(predicted_probabilities, dim=-1) + 1 # Shift sleep class labels from [0, C-1] to [1, C]\n",
    "\n",
    "        return predicted_probabilities, predicted_classes"
   ]
  },
  {
   "cell_type": "code",
   "execution_count": null,
   "metadata": {},
   "outputs": [],
   "source": [
    "test_metrics = np.zeros((len(nappa_dataset), 2))\n",
    "class_accuracies = np.zeros((len(nappa_dataset), NUM_CLASSES))\n",
    "\n",
    "all_preds, all_targets = [], []\n",
    "\n",
    "for test_subject in nappa_dataset:\n",
    "    # Load the model specifically trained excluding the current test subject\n",
    "    model_path = f'models/model_subject_{test_subject.id}.pth'\n",
    "    model.load_state_dict(torch.load(model_path, map_location=device))\n",
    "    model.to(device)\n",
    "    print(f'model loaded from {model_path}')\n",
    "\n",
    "     # Construct training dataset by excluding the current test subject\n",
    "    train_dataset = NappaDataset([subject for subject in nappa_dataset if subject.id != test_subject.id])\n",
    "    \n",
    "    # Normalize test subject features using training dataset statistics\n",
    "    features = scaler(test_subject.features, is_testset=True,\n",
    "                      trainset_mean=train_dataset.features.mean(axis=0),\n",
    "                      trainset_std=train_dataset.features.std(axis=0))\n",
    "\n",
    "    targets = torch.tensor(test_subject.labels) + 1 # Shift sleep class labels from [0, C-1] to [1, C]\n",
    "\n",
    "    predicted_probabilities, preds = model_predict(model, features)\n",
    "\n",
    "    acc, mcc = accuracy_score(targets, preds), matthews_corrcoef(targets, preds)\n",
    "    cm = confusion_matrix(targets, preds).T\n",
    "    \n",
    "    # Store metrics\n",
    "    test_metrics[test_subject.id - 1] = [acc, mcc]\n",
    "    class_accuracies[test_subject.id - 1] = np.diag(cm / cm.sum(axis=0))\n",
    "    all_preds.append(preds)\n",
    "    all_targets.append(targets)\n",
    "\n",
    "    # Generate and save plots\n",
    "    ts_fig = plot_time_series(targets, predicted_probabilities.numpy(), preds, sleep_classes)\n",
    "    ts_fig.savefig(f'plots/time series subject {test_subject.id}.png', bbox_inches='tight')\n",
    "    plt.show(ts_fig)\n",
    "    plt.close(ts_fig)\n",
    "\n",
    "    cm_fig = plot_confusion_matrix(cm, sleep_classes, title=f'MCC: {mcc:.2f}, Accuracy: {acc:.0%}')\n",
    "    cm_fig.savefig(f'plots/confusion matrix subject {test_subject.id}.png')\n",
    "    plt.show(cm_fig)\n",
    "    plt.close(cm_fig)\n",
    "\n",
    "# Aggregate predictions and labels\n",
    "all_targets, all_preds = np.concatenate(all_targets), np.concatenate(all_preds)"
   ]
  },
  {
   "cell_type": "code",
   "execution_count": null,
   "metadata": {},
   "outputs": [],
   "source": [
    "# Compute aggregate performance metric scores\n",
    "overall_acc, overall_mcc = accuracy_score(all_targets, all_preds), matthews_corrcoef(all_targets, all_preds)\n",
    "\n",
    "# Create and save overall plots\n",
    "cm_fig_all = plot_confusion_matrix(confusion_matrix(all_targets, all_preds).T,\n",
    "                                    sleep_classes, title=f'Aggregate Confusion Matrix (n={nappa_dataset.labels.shape[0]} sleep epochs)\\nMCC: {overall_mcc:.2f}, Accuracy: {overall_acc:.0%}')\n",
    "plt.show(cm_fig_all)\n",
    "cm_fig_all.savefig('plots/confusion_matrix_all.png')\n",
    "\n",
    "bp = box_plot(test_metrics[:, 0], test_metrics[:, 1], title='Whole dataset (n=33 subjects)')\n",
    "bp.savefig('plots/box_plot_all.png')\n",
    "plt.show(bp)"
   ]
  }
 ],
 "metadata": {
  "kernelspec": {
   "display_name": "Python 3",
   "language": "python",
   "name": "python3"
  },
  "language_info": {
   "codemirror_mode": {
    "name": "ipython",
    "version": 3
   },
   "file_extension": ".py",
   "mimetype": "text/x-python",
   "name": "python",
   "nbconvert_exporter": "python",
   "pygments_lexer": "ipython3",
   "version": "3.11.4"
  }
 },
 "nbformat": 4,
 "nbformat_minor": 2
}
